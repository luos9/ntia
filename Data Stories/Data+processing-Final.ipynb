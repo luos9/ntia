{
 "cells": [
  {
   "cell_type": "code",
   "execution_count": 1,
   "metadata": {
    "collapsed": true
   },
   "outputs": [],
   "source": [
    "import pandas as pd\n",
    "import numpy as np"
   ]
  },
  {
   "cell_type": "code",
   "execution_count": 2,
   "metadata": {
    "collapsed": true
   },
   "outputs": [],
   "source": [
    "#Loading the entire dataset from the csv file\n",
    "entire_dataset=pd.read_csv(\"C:/Users/jakum/Documents/Capstone/data/data_july15.csv\")"
   ]
  },
  {
   "cell_type": "markdown",
   "metadata": {},
   "source": [
    "Preliminary data analysis"
   ]
  },
  {
   "cell_type": "code",
   "execution_count": 3,
   "metadata": {},
   "outputs": [
    {
     "data": {
      "text/plain": [
       "float64    498\n",
       "int64      480\n",
       "dtype: int64"
      ]
     },
     "execution_count": 3,
     "metadata": {},
     "output_type": "execute_result"
    }
   ],
   "source": [
    "#total number of attributes in the data 978\n",
    "#480 of integer type and 498 of float type.\n",
    "dtp=entire_dataset.dtypes\n",
    "dtp.value_counts()"
   ]
  },
  {
   "cell_type": "code",
   "execution_count": 4,
   "metadata": {},
   "outputs": [
    {
     "data": {
      "text/html": [
       "<div>\n",
       "<table border=\"1\" class=\"dataframe\">\n",
       "  <thead>\n",
       "    <tr style=\"text-align: right;\">\n",
       "      <th></th>\n",
       "      <th>hrhhid</th>\n",
       "      <th>hrmonth</th>\n",
       "      <th>hryear4</th>\n",
       "      <th>hurespli</th>\n",
       "      <th>hufinal</th>\n",
       "      <th>huspnish</th>\n",
       "      <th>hetenure</th>\n",
       "      <th>hehousut</th>\n",
       "      <th>hetelhhd</th>\n",
       "      <th>hetelavl</th>\n",
       "      <th>...</th>\n",
       "      <th>rewgt151</th>\n",
       "      <th>rewgt152</th>\n",
       "      <th>rewgt153</th>\n",
       "      <th>rewgt154</th>\n",
       "      <th>rewgt155</th>\n",
       "      <th>rewgt156</th>\n",
       "      <th>rewgt157</th>\n",
       "      <th>rewgt158</th>\n",
       "      <th>rewgt159</th>\n",
       "      <th>rewgt160</th>\n",
       "    </tr>\n",
       "  </thead>\n",
       "  <tbody>\n",
       "    <tr>\n",
       "      <th>0</th>\n",
       "      <td>1.101500e+14</td>\n",
       "      <td>7</td>\n",
       "      <td>2015</td>\n",
       "      <td>1</td>\n",
       "      <td>201</td>\n",
       "      <td>0</td>\n",
       "      <td>1</td>\n",
       "      <td>5</td>\n",
       "      <td>1</td>\n",
       "      <td>-1</td>\n",
       "      <td>...</td>\n",
       "      <td>NaN</td>\n",
       "      <td>NaN</td>\n",
       "      <td>NaN</td>\n",
       "      <td>NaN</td>\n",
       "      <td>NaN</td>\n",
       "      <td>NaN</td>\n",
       "      <td>NaN</td>\n",
       "      <td>NaN</td>\n",
       "      <td>NaN</td>\n",
       "      <td>NaN</td>\n",
       "    </tr>\n",
       "    <tr>\n",
       "      <th>1</th>\n",
       "      <td>1.101500e+14</td>\n",
       "      <td>7</td>\n",
       "      <td>2015</td>\n",
       "      <td>1</td>\n",
       "      <td>201</td>\n",
       "      <td>0</td>\n",
       "      <td>1</td>\n",
       "      <td>5</td>\n",
       "      <td>1</td>\n",
       "      <td>-1</td>\n",
       "      <td>...</td>\n",
       "      <td>6361.7174</td>\n",
       "      <td>6273.0427</td>\n",
       "      <td>6329.5990</td>\n",
       "      <td>6361.6911</td>\n",
       "      <td>1063.0544</td>\n",
       "      <td>3597.4100</td>\n",
       "      <td>3635.4325</td>\n",
       "      <td>6240.6277</td>\n",
       "      <td>1064.2302</td>\n",
       "      <td>3646.6189</td>\n",
       "    </tr>\n",
       "    <tr>\n",
       "      <th>2</th>\n",
       "      <td>1.713010e+14</td>\n",
       "      <td>7</td>\n",
       "      <td>2015</td>\n",
       "      <td>1</td>\n",
       "      <td>201</td>\n",
       "      <td>0</td>\n",
       "      <td>1</td>\n",
       "      <td>1</td>\n",
       "      <td>1</td>\n",
       "      <td>-1</td>\n",
       "      <td>...</td>\n",
       "      <td>NaN</td>\n",
       "      <td>NaN</td>\n",
       "      <td>NaN</td>\n",
       "      <td>NaN</td>\n",
       "      <td>NaN</td>\n",
       "      <td>NaN</td>\n",
       "      <td>NaN</td>\n",
       "      <td>NaN</td>\n",
       "      <td>NaN</td>\n",
       "      <td>NaN</td>\n",
       "    </tr>\n",
       "    <tr>\n",
       "      <th>3</th>\n",
       "      <td>1.713010e+14</td>\n",
       "      <td>7</td>\n",
       "      <td>2015</td>\n",
       "      <td>1</td>\n",
       "      <td>201</td>\n",
       "      <td>0</td>\n",
       "      <td>1</td>\n",
       "      <td>1</td>\n",
       "      <td>1</td>\n",
       "      <td>-1</td>\n",
       "      <td>...</td>\n",
       "      <td>NaN</td>\n",
       "      <td>NaN</td>\n",
       "      <td>NaN</td>\n",
       "      <td>NaN</td>\n",
       "      <td>NaN</td>\n",
       "      <td>NaN</td>\n",
       "      <td>NaN</td>\n",
       "      <td>NaN</td>\n",
       "      <td>NaN</td>\n",
       "      <td>NaN</td>\n",
       "    </tr>\n",
       "    <tr>\n",
       "      <th>4</th>\n",
       "      <td>6.517100e+14</td>\n",
       "      <td>7</td>\n",
       "      <td>2015</td>\n",
       "      <td>1</td>\n",
       "      <td>201</td>\n",
       "      <td>0</td>\n",
       "      <td>1</td>\n",
       "      <td>1</td>\n",
       "      <td>1</td>\n",
       "      <td>-1</td>\n",
       "      <td>...</td>\n",
       "      <td>NaN</td>\n",
       "      <td>NaN</td>\n",
       "      <td>NaN</td>\n",
       "      <td>NaN</td>\n",
       "      <td>NaN</td>\n",
       "      <td>NaN</td>\n",
       "      <td>NaN</td>\n",
       "      <td>NaN</td>\n",
       "      <td>NaN</td>\n",
       "      <td>NaN</td>\n",
       "    </tr>\n",
       "    <tr>\n",
       "      <th>5</th>\n",
       "      <td>1.055700e+14</td>\n",
       "      <td>7</td>\n",
       "      <td>2015</td>\n",
       "      <td>1</td>\n",
       "      <td>201</td>\n",
       "      <td>0</td>\n",
       "      <td>2</td>\n",
       "      <td>1</td>\n",
       "      <td>1</td>\n",
       "      <td>-1</td>\n",
       "      <td>...</td>\n",
       "      <td>NaN</td>\n",
       "      <td>NaN</td>\n",
       "      <td>NaN</td>\n",
       "      <td>NaN</td>\n",
       "      <td>NaN</td>\n",
       "      <td>NaN</td>\n",
       "      <td>NaN</td>\n",
       "      <td>NaN</td>\n",
       "      <td>NaN</td>\n",
       "      <td>NaN</td>\n",
       "    </tr>\n",
       "    <tr>\n",
       "      <th>6</th>\n",
       "      <td>1.055700e+14</td>\n",
       "      <td>7</td>\n",
       "      <td>2015</td>\n",
       "      <td>1</td>\n",
       "      <td>201</td>\n",
       "      <td>0</td>\n",
       "      <td>2</td>\n",
       "      <td>1</td>\n",
       "      <td>1</td>\n",
       "      <td>-1</td>\n",
       "      <td>...</td>\n",
       "      <td>1266.5302</td>\n",
       "      <td>7269.6901</td>\n",
       "      <td>4225.7799</td>\n",
       "      <td>1244.6539</td>\n",
       "      <td>4233.9561</td>\n",
       "      <td>4157.4683</td>\n",
       "      <td>4247.8661</td>\n",
       "      <td>7208.1548</td>\n",
       "      <td>1231.6962</td>\n",
       "      <td>7346.8238</td>\n",
       "    </tr>\n",
       "    <tr>\n",
       "      <th>7</th>\n",
       "      <td>1.101180e+11</td>\n",
       "      <td>7</td>\n",
       "      <td>2015</td>\n",
       "      <td>1</td>\n",
       "      <td>201</td>\n",
       "      <td>0</td>\n",
       "      <td>2</td>\n",
       "      <td>1</td>\n",
       "      <td>1</td>\n",
       "      <td>-1</td>\n",
       "      <td>...</td>\n",
       "      <td>NaN</td>\n",
       "      <td>NaN</td>\n",
       "      <td>NaN</td>\n",
       "      <td>NaN</td>\n",
       "      <td>NaN</td>\n",
       "      <td>NaN</td>\n",
       "      <td>NaN</td>\n",
       "      <td>NaN</td>\n",
       "      <td>NaN</td>\n",
       "      <td>NaN</td>\n",
       "    </tr>\n",
       "    <tr>\n",
       "      <th>8</th>\n",
       "      <td>1.101180e+11</td>\n",
       "      <td>7</td>\n",
       "      <td>2015</td>\n",
       "      <td>1</td>\n",
       "      <td>201</td>\n",
       "      <td>0</td>\n",
       "      <td>2</td>\n",
       "      <td>1</td>\n",
       "      <td>1</td>\n",
       "      <td>-1</td>\n",
       "      <td>...</td>\n",
       "      <td>NaN</td>\n",
       "      <td>NaN</td>\n",
       "      <td>NaN</td>\n",
       "      <td>NaN</td>\n",
       "      <td>NaN</td>\n",
       "      <td>NaN</td>\n",
       "      <td>NaN</td>\n",
       "      <td>NaN</td>\n",
       "      <td>NaN</td>\n",
       "      <td>NaN</td>\n",
       "    </tr>\n",
       "    <tr>\n",
       "      <th>9</th>\n",
       "      <td>7.131200e+13</td>\n",
       "      <td>7</td>\n",
       "      <td>2015</td>\n",
       "      <td>1</td>\n",
       "      <td>201</td>\n",
       "      <td>0</td>\n",
       "      <td>1</td>\n",
       "      <td>1</td>\n",
       "      <td>1</td>\n",
       "      <td>-1</td>\n",
       "      <td>...</td>\n",
       "      <td>2132.1022</td>\n",
       "      <td>6305.2342</td>\n",
       "      <td>2270.8973</td>\n",
       "      <td>6021.8749</td>\n",
       "      <td>2177.7272</td>\n",
       "      <td>6212.8384</td>\n",
       "      <td>6499.5200</td>\n",
       "      <td>6228.1905</td>\n",
       "      <td>6112.3032</td>\n",
       "      <td>2202.3768</td>\n",
       "    </tr>\n",
       "  </tbody>\n",
       "</table>\n",
       "<p>10 rows × 978 columns</p>\n",
       "</div>"
      ],
      "text/plain": [
       "         hrhhid  hrmonth  hryear4  hurespli  hufinal  huspnish  hetenure  \\\n",
       "0  1.101500e+14        7     2015         1      201         0         1   \n",
       "1  1.101500e+14        7     2015         1      201         0         1   \n",
       "2  1.713010e+14        7     2015         1      201         0         1   \n",
       "3  1.713010e+14        7     2015         1      201         0         1   \n",
       "4  6.517100e+14        7     2015         1      201         0         1   \n",
       "5  1.055700e+14        7     2015         1      201         0         2   \n",
       "6  1.055700e+14        7     2015         1      201         0         2   \n",
       "7  1.101180e+11        7     2015         1      201         0         2   \n",
       "8  1.101180e+11        7     2015         1      201         0         2   \n",
       "9  7.131200e+13        7     2015         1      201         0         1   \n",
       "\n",
       "   hehousut  hetelhhd  hetelavl    ...       rewgt151   rewgt152   rewgt153  \\\n",
       "0         5         1        -1    ...            NaN        NaN        NaN   \n",
       "1         5         1        -1    ...      6361.7174  6273.0427  6329.5990   \n",
       "2         1         1        -1    ...            NaN        NaN        NaN   \n",
       "3         1         1        -1    ...            NaN        NaN        NaN   \n",
       "4         1         1        -1    ...            NaN        NaN        NaN   \n",
       "5         1         1        -1    ...            NaN        NaN        NaN   \n",
       "6         1         1        -1    ...      1266.5302  7269.6901  4225.7799   \n",
       "7         1         1        -1    ...            NaN        NaN        NaN   \n",
       "8         1         1        -1    ...            NaN        NaN        NaN   \n",
       "9         1         1        -1    ...      2132.1022  6305.2342  2270.8973   \n",
       "\n",
       "    rewgt154   rewgt155   rewgt156   rewgt157   rewgt158   rewgt159   rewgt160  \n",
       "0        NaN        NaN        NaN        NaN        NaN        NaN        NaN  \n",
       "1  6361.6911  1063.0544  3597.4100  3635.4325  6240.6277  1064.2302  3646.6189  \n",
       "2        NaN        NaN        NaN        NaN        NaN        NaN        NaN  \n",
       "3        NaN        NaN        NaN        NaN        NaN        NaN        NaN  \n",
       "4        NaN        NaN        NaN        NaN        NaN        NaN        NaN  \n",
       "5        NaN        NaN        NaN        NaN        NaN        NaN        NaN  \n",
       "6  1244.6539  4233.9561  4157.4683  4247.8661  7208.1548  1231.6962  7346.8238  \n",
       "7        NaN        NaN        NaN        NaN        NaN        NaN        NaN  \n",
       "8        NaN        NaN        NaN        NaN        NaN        NaN        NaN  \n",
       "9  6021.8749  2177.7272  6212.8384  6499.5200  6228.1905  6112.3032  2202.3768  \n",
       "\n",
       "[10 rows x 978 columns]"
      ]
     },
     "execution_count": 4,
     "metadata": {},
     "output_type": "execute_result"
    }
   ],
   "source": [
    "#dataset sample\n",
    "entire_dataset.head(10)#all responses are for july"
   ]
  },
  {
   "cell_type": "code",
   "execution_count": 5,
   "metadata": {},
   "outputs": [
    {
     "name": "stdout",
     "output_type": "stream",
     "text": [
      "73395\n",
      "15\n"
     ]
    }
   ],
   "source": [
    "#73395 unique households across US were sampled for the survey\n",
    "print(entire_dataset.qstnum.nunique())#unique house id\n",
    "print(entire_dataset.occurnum.nunique())#unique householder id"
   ]
  },
  {
   "cell_type": "code",
   "execution_count": 6,
   "metadata": {},
   "outputs": [
    {
     "name": "stdout",
     "output_type": "stream",
     "text": [
      "149414\n"
     ]
    }
   ],
   "source": [
    "#to identify each record in the dataset uniquely, the variables qatnum and occurnum can be used\n",
    "temp=entire_dataset[\"qstnum\"].map(str)+entire_dataset[\"occurnum\"].map(str)\n",
    "print(temp.nunique())"
   ]
  },
  {
   "cell_type": "code",
   "execution_count": 7,
   "metadata": {},
   "outputs": [
    {
     "data": {
      "text/plain": [
       "2015    149416\n",
       "Name: hryear4, dtype: int64"
      ]
     },
     "execution_count": 7,
     "metadata": {},
     "output_type": "execute_result"
    }
   ],
   "source": [
    "#hyyear4 indicates the year of survey\n",
    "entire_dataset.hryear4.value_counts()#all repsonses are for 2015"
   ]
  },
  {
   "cell_type": "code",
   "execution_count": 8,
   "metadata": {},
   "outputs": [
    {
     "name": "stdout",
     "output_type": "stream",
     "text": [
      "0    1889.0210\n",
      "1    2137.4570\n",
      "2    1524.9396\n",
      "3    1862.2480\n",
      "4    1752.9906\n",
      "Name: pwsswgt, dtype: float64\n",
      "0    1889.2824\n",
      "1    2162.1486\n",
      "2    1544.1158\n",
      "3    1623.6698\n",
      "4    1716.7724\n",
      "Name: pwcmpwgt, dtype: float64\n",
      "0       0.0000\n",
      "1    3665.7263\n",
      "2       0.0000\n",
      "3       0.0000\n",
      "4       0.0000\n",
      "Name: pwprmwgt, dtype: float64\n",
      "0    1889.0210\n",
      "1    1889.0210\n",
      "2    1524.9396\n",
      "3    1524.9396\n",
      "4    1752.9906\n",
      "Name: hwhhwgt, dtype: float64\n"
     ]
    }
   ],
   "source": [
    "#sample of wieghts\n",
    "print(entire_dataset.pwsswgt.head(5))#USED FOR MOST TABULATIONS, CONTROLLED TOINDEPENDENT ESTIMATES FOR 1) STATES; 2) ORIGIN, SEX,AND AGE; AND 3) AGE, RACE, AND SEX.\n",
    "print(entire_dataset.pwcmpwgt.head(5))#FAMILY WEIGHT: ONLY USED FOR TALLYING FAMILY CHARACTERISTICS\n",
    "print(entire_dataset.pwprmwgt.head(5))#Random Respondent Weight (4 Implied decimals)\n",
    "print(entire_dataset.hwhhwgt.head(5))#HOUSEHOLD WEIGHT 47 - 56(4 IMPLIED DECIMAL PLACES) USED FOR TALLYING HOUSEHOLD CHARACTERISTICS"
   ]
  },
  {
   "cell_type": "code",
   "execution_count": 9,
   "metadata": {},
   "outputs": [
    {
     "data": {
      "text/plain": [
       "1    42802\n",
       "2     9888\n",
       "Name: hemphone, dtype: int64"
      ]
     },
     "execution_count": 9,
     "metadata": {},
     "output_type": "execute_result"
    }
   ],
   "source": [
    "#to validate that data is loaded correctly, verified against counts in tecdocs july 2015.\n",
    "#does anyone use cellphone or smart phone\n",
    "#household value filtered by perrp(1 and 2 represent that the respondent is the reference person to household).\n",
    "\n",
    "entire_dataset[entire_dataset[\"perrp\"].isin([1,2])].hemphone.value_counts()"
   ]
  },
  {
   "cell_type": "code",
   "execution_count": 10,
   "metadata": {},
   "outputs": [
    {
     "data": {
      "text/plain": [
       "1    38462\n",
       "2    14228\n",
       "Name: heinhome, dtype: int64"
      ]
     },
     "execution_count": 10,
     "metadata": {},
     "output_type": "execute_result"
    }
   ],
   "source": [
    "#one more validation based on techdocs July 2015\n",
    "entire_dataset[entire_dataset[\"perrp\"].isin([1,2])].heinhome.value_counts()"
   ]
  },
  {
   "cell_type": "code",
   "execution_count": 11,
   "metadata": {},
   "outputs": [
    {
     "data": {
      "text/plain": [
       "array([1, 3, 2, 4], dtype=int64)"
      ]
     },
     "execution_count": 11,
     "metadata": {},
     "output_type": "execute_result"
    }
   ],
   "source": [
    "#types of interview\n",
    "#HRINTSTA\n",
    "#1 = Interview\n",
    "#2 = Type A Noninterview (These records represent households that were eligible for the August CPS interview but were not interviewed because no one washome, household members were temporarily absent, etc.)\n",
    "#3 = Type B Noninterview (These records represent sample addresses determinedto be ineligible for the CPS by virtue of being vacant, demolished,nonresidential, etc.)\n",
    "#4 = Type C Noninterview (See explanation for Type B above)\n",
    "entire_dataset.hrintsta.unique()"
   ]
  },
  {
   "cell_type": "code",
   "execution_count": 12,
   "metadata": {},
   "outputs": [
    {
     "data": {
      "text/plain": [
       "1    128711\n",
       "3     12304\n",
       "2      7851\n",
       "4       550\n",
       "Name: hrintsta, dtype: int64"
      ]
     },
     "execution_count": 12,
     "metadata": {},
     "output_type": "execute_result"
    }
   ],
   "source": [
    "#128711 interview responses were recorded.\n",
    "#That is out of the 149416 people sampled, 128711 were interviewed.\n",
    "entire_dataset.hrintsta.value_counts()"
   ]
  },
  {
   "cell_type": "code",
   "execution_count": 13,
   "metadata": {},
   "outputs": [
    {
     "data": {
      "text/plain": [
       "array([ 2,  1, -1,  3], dtype=int64)"
      ]
     },
     "execution_count": 13,
     "metadata": {},
     "output_type": "execute_result"
    }
   ],
   "source": [
    "#type of person interviewd\n",
    "#PRPERTYP\n",
    "#1 = Child household member (0-14 years old)\n",
    "#2 = Adultc civilian household member (15+ years old)\n",
    "#3 = Adult Armed Forces household member (15+ years old)\n",
    "entire_dataset.prpertyp.unique()"
   ]
  },
  {
   "cell_type": "code",
   "execution_count": 14,
   "metadata": {},
   "outputs": [
    {
     "data": {
      "text/plain": [
       " 2    104004\n",
       " 1     24242\n",
       "-1     20705\n",
       " 3       465\n",
       "Name: prpertyp, dtype: int64"
      ]
     },
     "execution_count": 14,
     "metadata": {},
     "output_type": "execute_result"
    }
   ],
   "source": [
    "#1,2,3 add up to 128711 responses, validating previous count for total response\n",
    "entire_dataset.prpertyp.value_counts()"
   ]
  },
  {
   "cell_type": "code",
   "execution_count": 15,
   "metadata": {},
   "outputs": [
    {
     "data": {
      "text/plain": [
       "1    34225\n",
       "2    18465\n",
       "Name: perrp, dtype: int64"
      ]
     },
     "execution_count": 15,
     "metadata": {},
     "output_type": "execute_result"
    }
   ],
   "source": [
    "#1 and 2 represent reference person aka housholder\n",
    "#it is say that 52,690 households were interviewed\n",
    "entire_dataset[entire_dataset[\"perrp\"].isin([1,2])].perrp.value_counts()"
   ]
  },
  {
   "cell_type": "code",
   "execution_count": 16,
   "metadata": {},
   "outputs": [
    {
     "data": {
      "text/plain": [
       "83"
      ]
     },
     "execution_count": 16,
     "metadata": {},
     "output_type": "execute_result"
    }
   ],
   "source": [
    "#PRTAGE 2 PERSONS AGE\n",
    "#VALID ENTRIES\n",
    "#00-79 Age in Years\n",
    "#80 80-84 Years Old\n",
    "#85 85+ Years Old\n",
    "entire_dataset.prtage.nunique()"
   ]
  },
  {
   "cell_type": "markdown",
   "metadata": {},
   "source": [
    "Data Processing for Data Stories."
   ]
  },
  {
   "cell_type": "code",
   "execution_count": 17,
   "metadata": {
    "collapsed": true
   },
   "outputs": [],
   "source": [
    "security_df=entire_dataset[['hrhhid','hrhhid2','qstnum','occurnum','perrp','prtage','prpertyp','pwsswgt','hwhhwgt','pwprmwgt','peinhome','hufinal','hrintsta','gereg','gediv','gestfips','peeduca','prtage','heinhome','hecbully','hecyba','hepscon8','hepscon7','hepscon6','hepscon5','hepscon4','hepscon3','hepscon2','hepscon1','hepspre4','hepspre3','hepspre2','hepspre1','heprinoh','hepsensi','heprinoo']]"
   ]
  },
  {
   "cell_type": "code",
   "execution_count": 18,
   "metadata": {},
   "outputs": [
    {
     "data": {
      "text/plain": [
       "int64      31\n",
       "float64     5\n",
       "dtype: int64"
      ]
     },
     "execution_count": 18,
     "metadata": {},
     "output_type": "execute_result"
    }
   ],
   "source": [
    "#analysis data frame has 34 new columns\n",
    "dtp=security_df.dtypes\n",
    "dtp.value_counts()"
   ]
  },
  {
   "cell_type": "code",
   "execution_count": 19,
   "metadata": {},
   "outputs": [
    {
     "data": {
      "text/plain": [
       "-1     121189\n",
       " 1       8966\n",
       " 3       6715\n",
       " 2       5865\n",
       " 7       2136\n",
       " 11      1914\n",
       " 6        876\n",
       " 5        628\n",
       " 4        568\n",
       " 8        270\n",
       " 10       156\n",
       " 9        133\n",
       "Name: heprinoh, dtype: int64"
      ]
     },
     "execution_count": 19,
     "metadata": {},
     "output_type": "execute_result"
    }
   ],
   "source": [
    "security_df.heprinoh.value_counts()\n",
    "#-1 indicates not in universe"
   ]
  },
  {
   "cell_type": "code",
   "execution_count": 21,
   "metadata": {},
   "outputs": [],
   "source": [
    "#extracting all unique values to recode them for the vizualization\n",
    "list_of_states=security_df.gestfips.unique()\n",
    "list_of_states\n",
    "reason_inhome_list=security_df.heprinoh.unique()\n",
    "reason_outhome_list=security_df.heprinoo.unique()"
   ]
  },
  {
   "cell_type": "code",
   "execution_count": 22,
   "metadata": {
    "collapsed": true
   },
   "outputs": [],
   "source": [
    "states_dict={1:'AL',2:'AK',4:'AZ',5:'AR',6:'CA',8:'CO',9:'CT',10:'DE',11:'DC',12:'FL',13:'GA',15:'HI',16:'ID',17:'IL',18:'IN',19:'IA',20:'KS',21:'KY',22:'LA',23:'ME',24:'MD',25:'MA',26:'MI',27:'MN',28:'MS',29:'MO',30:'MT',31:'NE',32:'NV',33:'NH',34:'NJ',35:'NM',36:'NY',37:'NC',38:'ND',39:'OH',40:'OK',41:'OR',42:'OR',44:'RI',45:'SC',46:'SD',47:'TN',48:'TX',49:'UT',50:'VT',51:'VA',53:'WA',54:'WV',55:'WI',56:'WY'}\n",
    "heprinoh_dict={-1:'Not in Universe',1:'Don\\'t need it',2:'Not interested',3:'Can\\'t afford it',4:'Not worth the cost',5:'Can use it elsewhere',6:'Not available in area',7:'No computer, or computer inadequate or broken',8:'Online privacy or cybersecurity concerns',9:'Personal safety concerns',10:'Household moved',11:'Other'}\n",
    "heprinoo_dict={-1:'Not in Universe',1:'Don\\'t need it',2:'Not interested',3:'Can\\'t afford it',4:'Not worth the cost',5:'Nowhere to go that has it',6:'Not available in area',7:'No computer, or computer inadequate or broken',8:'Online privacy or cybersecurity concerns',9:'Personal safety concerns',10:'Household moved',11:'Other'}"
   ]
  },
  {
   "cell_type": "code",
   "execution_count": 23,
   "metadata": {},
   "outputs": [
    {
     "name": "stdout",
     "output_type": "stream",
     "text": [
      "prtage    57.775935\n",
      "prtage    57.775935\n",
      "dtype: float64 : 14228\n"
     ]
    }
   ],
   "source": [
    "#code block for main reasons of not using internet at home across US.\n",
    "#What are the main reasons stated by households across US for not using the Internet?\n",
    "reason_inhome_US=pd.DataFrame(columns=['Reason in home','% of people'])\n",
    "i=0\n",
    "#peerp values need to be 1 or 2 to indicate that the respondednt is the head of the household\n",
    "#heinhome value needs to be 2 to indicate that the repondent does not have internet at home\n",
    "a=security_df[(security_df['perrp'].isin([1,2])) & (security_df['heinhome']==2)].hwhhwgt.sum()\n",
    "average_age_of_res=security_df[(security_df['perrp'].isin([1,2])) & (security_df['heinhome']==2)].prtage.mean()\n",
    "count=security_df[(security_df['perrp'].isin([1,2])) & (security_df['heinhome']==2)].count()\n",
    "for r in reason_inhome_list:\n",
    "    b=security_df[(security_df['perrp'].isin([1,2])) & (security_df['heinhome']==2)&(security_df['heprinoh']==r)].hwhhwgt.sum()\n",
    "    val=(b/a)*100\n",
    "    #print(r,val)\n",
    "    reason_inhome_US.loc[i]=([heprinoh_dict[r],val])\n",
    "    i=i+1\n",
    "\n",
    "print(average_age_of_res,\":\",count[0])"
   ]
  },
  {
   "cell_type": "code",
   "execution_count": 24,
   "metadata": {},
   "outputs": [
    {
     "name": "stdout",
     "output_type": "stream",
     "text": [
      "prtage    57.775935\n",
      "prtage    57.775935\n",
      "dtype: float64 14228\n"
     ]
    }
   ],
   "source": [
    "#code block for main reasons of not using internet outside home across US.\n",
    "#What are the main reasons stated by households for not using the Internet in each state?\n",
    "reason_outhome_US=pd.DataFrame(columns=['Reason outside home','% of people'])\n",
    "i=0\n",
    "average_age_of_res=security_df[(security_df['perrp'].isin([1,2])) & (security_df['heinhome']==2)].prtage.mean()\n",
    "count=security_df[(security_df['perrp'].isin([1,2])) & (security_df['heinhome']==2)].count()\n",
    "print(average_age_of_res,count[0])\n",
    "a=security_df[(security_df['perrp'].isin([1,2])) & (security_df['heinhome']==2)].hwhhwgt.sum()\n",
    "for r in reason_outhome_list:\n",
    "    b=security_df[(security_df['perrp'].isin([1,2])) & (security_df['heinhome']==2)&(security_df['heprinoo']==r)].hwhhwgt.sum()\n",
    "    val=(b/a)*100\n",
    "    reason_outhome_US.loc[i]=([heprinoo_dict[r],val])\n",
    "    i=i+1\n"
   ]
  },
  {
   "cell_type": "code",
   "execution_count": 25,
   "metadata": {},
   "outputs": [
    {
     "name": "stdout",
     "output_type": "stream",
     "text": [
      "prtage    57.8125\n",
      "prtage    57.8125\n",
      "dtype: float64\n",
      "prtage    61.789474\n",
      "prtage    61.789474\n",
      "dtype: float64\n",
      "prtage    56.197368\n",
      "prtage    56.197368\n",
      "dtype: float64\n",
      "prtage    56.720307\n",
      "prtage    56.720307\n",
      "dtype: float64\n",
      "prtage    57.383942\n",
      "prtage    57.383942\n",
      "dtype: float64\n",
      "prtage    57.192053\n",
      "prtage    57.192053\n",
      "dtype: float64\n",
      "prtage    60.242574\n",
      "prtage    60.242574\n",
      "dtype: float64\n",
      "prtage    56.882653\n",
      "prtage    56.882653\n",
      "dtype: float64\n",
      "prtage    61.576\n",
      "prtage    61.576\n",
      "dtype: float64\n",
      "prtage    58.96\n",
      "prtage    58.96\n",
      "dtype: float64\n",
      "prtage    61.183908\n",
      "prtage    61.183908\n",
      "dtype: float64\n",
      "prtage    57.441624\n",
      "prtage    57.441624\n",
      "dtype: float64\n",
      "prtage    61.819444\n",
      "prtage    61.819444\n",
      "dtype: float64\n",
      "prtage    60.812245\n",
      "prtage    60.812245\n",
      "dtype: float64\n",
      "prtage    58.735974\n",
      "prtage    58.735974\n",
      "dtype: float64\n",
      "prtage    56.697368\n",
      "prtage    56.697368\n",
      "dtype: float64\n",
      "prtage    60.103448\n",
      "prtage    60.103448\n",
      "dtype: float64\n",
      "prtage    59.603448\n",
      "prtage    59.603448\n",
      "dtype: float64\n",
      "prtage    62.117647\n",
      "prtage    62.117647\n",
      "dtype: float64\n",
      "prtage    57.568376\n",
      "prtage    57.568376\n",
      "dtype: float64\n",
      "prtage    56.674556\n",
      "prtage    56.674556\n",
      "dtype: float64\n",
      "prtage    60.795918\n",
      "prtage    60.795918\n",
      "dtype: float64\n",
      "prtage    60.437768\n",
      "prtage    60.437768\n",
      "dtype: float64\n",
      "prtage    54.781818\n",
      "prtage    54.781818\n",
      "dtype: float64\n",
      "prtage    54.450593\n",
      "prtage    54.450593\n",
      "dtype: float64\n",
      "prtage    55.265372\n",
      "prtage    55.265372\n",
      "dtype: float64\n",
      "prtage    55.014764\n",
      "prtage    55.014764\n",
      "dtype: float64\n",
      "prtage    52.925926\n",
      "prtage    52.925926\n",
      "dtype: float64\n",
      "prtage    59.912281\n",
      "prtage    59.912281\n",
      "dtype: float64\n",
      "prtage    56.027397\n",
      "prtage    56.027397\n",
      "dtype: float64\n",
      "prtage    60.910663\n",
      "prtage    60.910663\n",
      "dtype: float64\n",
      "prtage    60.472727\n",
      "prtage    60.472727\n",
      "dtype: float64\n",
      "prtage    57.447368\n",
      "prtage    57.447368\n",
      "dtype: float64\n",
      "prtage    56.017442\n",
      "prtage    56.017442\n",
      "dtype: float64\n",
      "prtage    59.654286\n",
      "prtage    59.654286\n",
      "dtype: float64\n",
      "prtage    58.826389\n",
      "prtage    58.826389\n",
      "dtype: float64\n",
      "prtage    58.661157\n",
      "prtage    58.661157\n",
      "dtype: float64\n",
      "prtage    60.319403\n",
      "prtage    60.319403\n",
      "dtype: float64\n",
      "prtage    57.910112\n",
      "prtage    57.910112\n",
      "dtype: float64\n",
      "prtage    56.091603\n",
      "prtage    56.091603\n",
      "dtype: float64\n",
      "prtage    56.265372\n",
      "prtage    56.265372\n",
      "dtype: float64\n",
      "prtage    54.237885\n",
      "prtage    54.237885\n",
      "dtype: float64\n",
      "prtage    55.790698\n",
      "prtage    55.790698\n",
      "dtype: float64\n",
      "prtage    60.284884\n",
      "prtage    60.284884\n",
      "dtype: float64\n",
      "prtage    60.103093\n",
      "prtage    60.103093\n",
      "dtype: float64\n",
      "prtage    52.880102\n",
      "prtage    52.880102\n",
      "dtype: float64\n",
      "prtage    53.825175\n",
      "prtage    53.825175\n",
      "dtype: float64\n",
      "prtage    58.495283\n",
      "prtage    58.495283\n",
      "dtype: float64\n",
      "prtage    59.819477\n",
      "prtage    59.819477\n",
      "dtype: float64\n",
      "prtage    64.205298\n",
      "prtage    64.205298\n",
      "dtype: float64\n",
      "prtage    58.625616\n",
      "prtage    58.625616\n",
      "dtype: float64\n"
     ]
    }
   ],
   "source": [
    "#code block for main reasons of not using internet at home by state.\n",
    "#What privacy and security concerns hold back internet users across US from using the Internet to its full potential?\n",
    "reason_inhome=pd.DataFrame(columns=['State','Reason in home','% of people'])\n",
    "i=0\n",
    "for s in list_of_states:\n",
    "    a=security_df[(security_df['perrp'].isin([1,2])) & (security_df['heinhome']==2)&(security_df['gestfips']==s)].hwhhwgt.sum()\n",
    "    age=security_df[(security_df['perrp'].isin([1,2])) & (security_df['heinhome']==2)&(security_df['gestfips']==s)].prtage.mean()\n",
    "    print(age)\n",
    "    for r in reason_inhome_list:\n",
    "        b=security_df[(security_df['perrp'].isin([1,2])) & (security_df['heinhome']==2)&(security_df['gestfips']==s)&(security_df['heprinoh']==r)].hwhhwgt.sum()\n",
    "        val=(b/a)*100\n",
    "        #print(s,r,val)\n",
    "        reason_inhome.loc[i]=([states_dict[s],heprinoh_dict[r],val])\n",
    "        i=i+1\n",
    "\n",
    "#reason_inhome.to_csv('C:/Users/jakum/Documents/Capstone/final csv/reason_inhome_state.csv')"
   ]
  },
  {
   "cell_type": "code",
   "execution_count": 26,
   "metadata": {
    "collapsed": true
   },
   "outputs": [],
   "source": [
    "#code block for main reasons of not using internet outside home by state.\n",
    "#What online activities are hindered due to these Privacy concerns?\n",
    "reason_outhome=pd.DataFrame(columns=['State','Reason outside home','% of people'])\n",
    "i=0\n",
    "for s in list_of_states:\n",
    "    a=security_df[(security_df['perrp'].isin([1,2])) & (security_df['heinhome']==2)&(security_df['gestfips']==s)].hwhhwgt.sum()\n",
    "    for r in reason_outhome_list:\n",
    "        b=security_df[(security_df['perrp'].isin([1,2])) & (security_df['heinhome']==2)&(security_df['gestfips']==s)&(security_df['heprinoo']==r)].hwhhwgt.sum()\n",
    "        val=(b/a)*100\n",
    "        #print(s,r,val)\n",
    "        reason_outhome.loc[i]=([states_dict[s],heprinoo_dict[r],val])\n",
    "        i=i+1\n",
    "reason_outhome.to_csv('C:/Users/jakum/Documents/Capstone/final csv/reason_outhome_state.csv')"
   ]
  },
  {
   "cell_type": "code",
   "execution_count": 27,
   "metadata": {
    "collapsed": true
   },
   "outputs": [],
   "source": [
    "online_concerns_list=['hepscon1','hepscon2','hepscon3','hepscon4','hepscon5','hepscon6','hepscon7','hepscon8']\n",
    "online_concerns_dict={'hepscon1':'Identity theft','hepscon2':'Credit card or banking fraud','hepscon3':'Data collection or tracking by online services','hepscon4':'Data collection or tracking by government','hepscon5':'Loss of control over personal data such as email','hepscon6':'Threats to personal safety such as bullying','hepscon7':'No concerns','hepscon8':'Others'}"
   ]
  },
  {
   "cell_type": "code",
   "execution_count": 28,
   "metadata": {
    "collapsed": true
   },
   "outputs": [],
   "source": [
    "#code block for major concerns when it comes to online privacy and security risks across US\n",
    "#What are the basis of these fears? That is, how many internet users report an incident of cyber-bullying and cyber crime in each state?\n",
    "online_concerns_list=['hepscon1','hepscon2','hepscon3','hepscon4','hepscon5','hepscon6','hepscon7','hepscon8']\n",
    "security_concerns_US=pd.DataFrame(columns=['Concern','% of people'])\n",
    "i=0\n",
    "a=security_df[(security_df['perrp'].isin([1,2])) & (security_df['hepspre4'].isin([1,2]))].hwhhwgt.sum()\n",
    "for r in online_concerns_list:\n",
    "    b=security_df[(security_df['perrp'].isin([1,2])) & (security_df['hepspre4'].isin([1,2]))&(security_df[r]==1)].hwhhwgt.sum()\n",
    "    val=(b/a)*100\n",
    "    #print(r,val)\n",
    "    security_concerns_US.loc[i]=([online_concerns_dict[r],val])\n",
    "    i=i+1\n",
    "security_concerns_US.to_csv('C:/Users/jakum/Documents/Capstone/final csv/security_concerns_US.csv')"
   ]
  },
  {
   "cell_type": "code",
   "execution_count": 29,
   "metadata": {
    "collapsed": true
   },
   "outputs": [],
   "source": [
    "#code block for major concerns when it comes to online privacy and security risks by state\n",
    "online_concerns_list=['hepscon1','hepscon2','hepscon3','hepscon4','hepscon5','hepscon6','hepscon7','hepscon8']\n",
    "security_concerns_state=pd.DataFrame(columns=['State','Concern','% of people'])\n",
    "i=0\n",
    "for s in list_of_states:\n",
    "    a=security_df[(security_df['perrp'].isin([1,2])) & (security_df['hepspre4'].isin([1,2])) & (security_df['gestfips']==s)].hwhhwgt.sum()\n",
    "    for r in online_concerns_list:\n",
    "        b=security_df[(security_df['perrp'].isin([1,2])) & (security_df['hepspre4'].isin([1,2]))&(security_df[r]==1) &(security_df['gestfips']==s)].hwhhwgt.sum()\n",
    "        val=(b/a)*100\n",
    "        #print(r,val)\n",
    "        security_concerns_state.loc[i]=([states_dict[s],online_concerns_dict[r],val])\n",
    "        i=i+1\n",
    "security_concerns_state.to_csv('C:/Users/jakum/Documents/Capstone/final csv/security_concerns_state.csv')"
   ]
  },
  {
   "cell_type": "code",
   "execution_count": 30,
   "metadata": {
    "collapsed": true
   },
   "outputs": [],
   "source": [
    "activities_list=['hepspre1','hepspre2','hepspre3','hepspre4']\n",
    "activites_dict={'hepspre1':'Conducting financial transactions such as banking, investing, or paying bills online?','hepspre2':'Buying goods or services online?','hepspre3':':Posting photos, status updates, or otherinformation on social networks?','hepspre4':'Expressing an opinion on a controversial or political issue on a blog or social network or in a forum, email or any other venue?'}"
   ]
  },
  {
   "cell_type": "code",
   "execution_count": 31,
   "metadata": {
    "collapsed": true
   },
   "outputs": [],
   "source": [
    "#code block for activites hindered due to security concerns across US\n",
    "activities_list=['hepspre1','hepspre2','hepspre3','hepspre4']\n",
    "activities_hindered_US=pd.DataFrame(columns=['Activity Hindered','% of people'])\n",
    "i=0\n",
    "a=security_df[(security_df['perrp'].isin([1,2])) & (security_df['peinhome']==1)].hwhhwgt.sum()\n",
    "for r in activities_list:\n",
    "    b=security_df[(security_df['perrp'].isin([1,2])) & (security_df['peinhome']==1)&(security_df[r]==1)].hwhhwgt.sum()\n",
    "    val=(b/a)*100\n",
    "    #print(r,val)\n",
    "    activities_hindered_US.loc[i]=([activites_dict[r],val])\n",
    "    i=i+1\n",
    "activities_hindered_US.to_csv('C:/Users/jakum/Documents/Capstone/final csv/activities_hindered_US.csv')"
   ]
  },
  {
   "cell_type": "code",
   "execution_count": 32,
   "metadata": {
    "collapsed": true
   },
   "outputs": [],
   "source": [
    "#code block for activites hindered due to security concerns by state\n",
    "activities_list=['hepspre1','hepspre2','hepspre3','hepspre4']\n",
    "activities_hindered_state=pd.DataFrame(columns=['State','Activity Hindered','% of people'])\n",
    "i=0\n",
    "for s in list_of_states:\n",
    "    a=security_df[(security_df['perrp'].isin([1,2])) & (security_df['peinhome']==1) & (security_df['gestfips']==s)].hwhhwgt.sum()\n",
    "    for r in activities_list:\n",
    "        b=security_df[(security_df['perrp'].isin([1,2])) & (security_df['peinhome']==1)&(security_df[r]==1)&(security_df['gestfips']==s)].hwhhwgt.sum()\n",
    "        val=(b/a)*100\n",
    "        #print(r,val)\n",
    "        activities_hindered_state.loc[i]=([states_dict[s],activites_dict[r],val])\n",
    "        i=i+1\n",
    "activities_hindered_state.to_csv('C:/Users/jakum/Documents/Capstone/final csv/activities_hindered_state.csv')"
   ]
  },
  {
   "cell_type": "code",
   "execution_count": 33,
   "metadata": {},
   "outputs": [
    {
     "name": "stdout",
     "output_type": "stream",
     "text": [
      "2.745256191215056\n"
     ]
    }
   ],
   "source": [
    "#code block for number of cyber bullying cases across US\n",
    "No_cybull_US=0;\n",
    "a=security_df[(security_df['perrp'].isin([1,2]))&(security_df['peinhome']==1) &(security_df['hecbully'].isin([1,2]))].hwhhwgt.sum()\n",
    "b=security_df[(security_df['perrp'].isin([1,2]))&(security_df['peinhome']==1)&(security_df['hecbully']==1)].hwhhwgt.sum()\n",
    "val=(b/a)*100\n",
    "print(val)"
   ]
  },
  {
   "cell_type": "code",
   "execution_count": 34,
   "metadata": {
    "collapsed": true
   },
   "outputs": [],
   "source": [
    "#code block for number of cyber bullying cases by state\n",
    "no_cybull_state=pd.DataFrame(columns=['State','% of cases reported']);\n",
    "i=0\n",
    "for s in list_of_states:\n",
    "    a=security_df[(security_df['perrp'].isin([1,2])) &(security_df['peinhome']==1)&(security_df['hecbully'].isin([1,2])) & (security_df['gestfips']==s)].hwhhwgt.sum()\n",
    "    b=security_df[(security_df['perrp'].isin([1,2])) &(security_df['peinhome']==1) &(security_df['hecbully']==1)& (security_df['gestfips']==s)].hwhhwgt.sum()\n",
    "    val=(b/a)*100\n",
    "    #print(s,val)\n",
    "    no_cybull_state.loc[i]=(states_dict[s],val)\n",
    "    i=i+1\n",
    "no_cybull_state.head()\n",
    "no_cybull_state.to_csv('C:/Users/jakum/Documents/Capstone/final csv/cybull_state.csv')"
   ]
  },
  {
   "cell_type": "code",
   "execution_count": 35,
   "metadata": {},
   "outputs": [
    {
     "name": "stdout",
     "output_type": "stream",
     "text": [
      "20.090193745575803\n"
     ]
    }
   ],
   "source": [
    "#code block for number of cyber crime cases across US\n",
    "No_cycrime_US=0;\n",
    "a=security_df[(security_df['perrp'].isin([1,2]))& (security_df['peinhome']==1)&(security_df['hepscon8'].isin([1,2]))&(security_df['hecyba'].isin([1,2]))].hwhhwgt.sum()\n",
    "b=security_df[(security_df['perrp'].isin([1,2])) &(security_df['peinhome']==1) & (security_df['hepscon8'].isin([1,2]))& (security_df['hecyba']==1)].hwhhwgt.sum()\n",
    "val=(b/a)*100\n",
    "print(val)"
   ]
  },
  {
   "cell_type": "code",
   "execution_count": 36,
   "metadata": {
    "collapsed": true
   },
   "outputs": [],
   "source": [
    "#code block for number of cyber crime cases by state\n",
    "no_cycrime_state=pd.DataFrame(columns=['State','% of cases reported']);\n",
    "i=0\n",
    "for s in list_of_states:\n",
    "    a=security_df[(security_df['perrp'].isin([1,2]))&(security_df['peinhome']==1)& (security_df['hepscon8'].isin([1,2]))&(security_df['hecyba'].isin([1,2])) & (security_df['gestfips']==s)].hwhhwgt.sum()\n",
    "    b=security_df[(security_df['perrp'].isin([1,2]))&(security_df['peinhome']==1)& (security_df['hepscon8'].isin([1,2]))&(security_df['hecyba']==1)& (security_df['gestfips']==s)].hwhhwgt.sum()\n",
    "    val=(b/a)*100\n",
    "    #print(s,val)\n",
    "    no_cycrime_state.loc[i]=(states_dict[s],val)\n",
    "    i=i+1\n",
    "no_cycrime_state.to_csv('C:/Users/jakum/Documents/Capstone/final csv/cycrime_state.csv')"
   ]
  }
 ],
 "metadata": {
  "anaconda-cloud": {},
  "kernelspec": {
   "display_name": "Python [conda root]",
   "language": "python",
   "name": "conda-root-py"
  },
  "language_info": {
   "codemirror_mode": {
    "name": "ipython",
    "version": 3
   },
   "file_extension": ".py",
   "mimetype": "text/x-python",
   "name": "python",
   "nbconvert_exporter": "python",
   "pygments_lexer": "ipython3",
   "version": "3.5.3"
  }
 },
 "nbformat": 4,
 "nbformat_minor": 2
}
